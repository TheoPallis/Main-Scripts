{
 "cells": [
  {
   "cell_type": "code",
   "execution_count": 1,
   "metadata": {},
   "outputs": [],
   "source": [
    "import pandas as pd\n",
    "import os\n",
    "import glob\n",
    "path_for_merge = r\"C:\\Users\\pallist\\Desktop\\ΤΡΕΧΟΝΤΑ\\1) Projects\\3869 Αποδελτιώσεις Εφέσεων Ακινήτων Σταματ\\121 Εφέσεις\"\n",
    "file_list_for_merge = list(pd.read_excel(r\"C:\\Users\\pallist\\Documents\\compare_3869_code_to_folder_contents.xlsx\",sheet_name= 'Files', dtype = str).iloc[:,0])\n",
    "sheet_list = ['Αρχική Αποδελτίωση','Εξαιρούμενα Ακίνητα' ]\n",
    "import warnings\n",
    "warnings.simplefilter(action='ignore', category=UserWarning)"
   ]
  },
  {
   "cell_type": "code",
   "execution_count": 2,
   "metadata": {},
   "outputs": [],
   "source": [
    "def merge_files(file_list,sheet_name):\n",
    "    df_list_for_merge = []\n",
    "    errors = []\n",
    "    for file in file_list_for_merge :\n",
    "        try : \n",
    "            df_for_merge = pd.read_excel(file,sheet_name=sheet_name,dtype = str)\n",
    "            df_for_merge['Source'] = file\n",
    "            df_list_for_merge.append(df_for_merge)\n",
    "        except Exception as e:\n",
    "            errors.append(f\"{os.path.basename(file)} Error :  {e}\")\n",
    "\n",
    "    print(f\"Sheet_Name : {sheet_name} Merged : {len(df_list_for_merge)} files. Errors  : {len(errors)} files\")\n",
    "    return (df_list_for_merge,errors)"
   ]
  },
  {
   "cell_type": "code",
   "execution_count": 3,
   "metadata": {},
   "outputs": [
    {
     "name": "stdout",
     "output_type": "stream",
     "text": [
      "Sheet_Name : Αρχική Αποδελτίωση Merged : 121 files. Errors  : 0 files\n",
      "Sheet_Name : Εξαιρούμενα Ακίνητα Merged : 121 files. Errors  : 0 files\n"
     ]
    }
   ],
   "source": [
    "# 1st sheet\n",
    "results_1st_sheet= merge_files(file_list_for_merge,sheet_list[0])\n",
    "df_list_for_merge_Αρχική_Αποδελτίωση =results_1st_sheet[0]\n",
    "df_list_for_merge_Αρχική_Αποδελτίωση_errors =results_1st_sheet[1]\n",
    "# 2nd sheet\n",
    "results_1st_sheet= merge_files(file_list_for_merge,sheet_list[1])\n",
    "df_list_for_merge_Εξαιρούμενα_Ακίνητα =results_1st_sheet[0]\n",
    "df_list_for_merge_Αρχική_Εξαιρούμενα_Ακίνητα_errors =results_1st_sheet[1]\n"
   ]
  },
  {
   "cell_type": "code",
   "execution_count": 5,
   "metadata": {},
   "outputs": [],
   "source": [
    "# 1st sheet\n",
    "total_df_list_for_merge_Αρχική_Αποδελτίωση = pd.concat(df_list_for_merge_Αρχική_Αποδελτίωση)\n",
    "# 2nd sheet\n",
    "totald_df_list_for_merge_Εξαιρούμενα_Ακίνητα  = pd.concat(df_list_for_merge_Εξαιρούμενα_Ακίνητα)"
   ]
  },
  {
   "cell_type": "code",
   "execution_count": 9,
   "metadata": {},
   "outputs": [],
   "source": [
    "file_name1 = r\"121_Εφέσεις_Αρχική.xlsx\"\n",
    "file_name2 = r\"121_Εξαιρούμενα_Ακίνητα.xlsx\"\n",
    "# total_df_list_for_merge_Αρχική_Αποδελτίωση.to_excel(file_name1)\n",
    "totald_df_list_for_merge_Εξαιρούμενα_Ακίνητα.to_excel(file_name2)\n",
    "\n",
    "# os.startfile(file_name1)\n",
    "os.startfile(file_name2)"
   ]
  },
  {
   "cell_type": "code",
   "execution_count": null,
   "metadata": {},
   "outputs": [],
   "source": []
  }
 ],
 "metadata": {
  "kernelspec": {
   "display_name": "Python 3",
   "language": "python",
   "name": "python3"
  },
  "language_info": {
   "codemirror_mode": {
    "name": "ipython",
    "version": 3
   },
   "file_extension": ".py",
   "mimetype": "text/x-python",
   "name": "python",
   "nbconvert_exporter": "python",
   "pygments_lexer": "ipython3",
   "version": "3.11.5"
  }
 },
 "nbformat": 4,
 "nbformat_minor": 2
}
